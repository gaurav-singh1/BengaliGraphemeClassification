{
 "cells": [
  {
   "cell_type": "code",
   "execution_count": 2,
   "metadata": {},
   "outputs": [],
   "source": [
    "import sys\n",
    "sys.path.append(\"../\")\n",
    "from src.dataset import BengaliaiDataset"
   ]
  },
  {
   "cell_type": "code",
   "execution_count": 3,
   "metadata": {},
   "outputs": [],
   "source": [
    "import matplotlib.pyplot as plt\n",
    "import numpy as np\n",
    "% matplotlib inline"
   ]
  },
  {
   "cell_type": "code",
   "execution_count": 4,
   "metadata": {},
   "outputs": [],
   "source": [
    "ds = BengaliaiDataset(folds = [0], img_height = 137, img_width = 236, mean = (0.4, 0.4, 0.4), std = (0.2, 0.2, 0.2))"
   ]
  },
  {
   "cell_type": "code",
   "execution_count": 5,
   "metadata": {},
   "outputs": [],
   "source": [
    "x = ds[3]"
   ]
  },
  {
   "cell_type": "code",
   "execution_count": null,
   "metadata": {},
   "outputs": [],
   "source": []
  },
  {
   "cell_type": "code",
   "execution_count": 6,
   "metadata": {},
   "outputs": [],
   "source": [
    "img = x[\"image\"]\n",
    "\n"
   ]
  },
  {
   "cell_type": "code",
   "execution_count": 7,
   "metadata": {},
   "outputs": [
    {
     "output_type": "execute_result",
     "data": {
      "text/plain": "torch.Size([3, 137, 236])"
     },
     "metadata": {},
     "execution_count": 7
    }
   ],
   "source": [
    "img.shape"
   ]
  },
  {
   "cell_type": "code",
   "execution_count": 8,
   "metadata": {},
   "outputs": [],
   "source": [
    "img = np.transpose(img, (1, 2, 0))"
   ]
  },
  {
   "cell_type": "code",
   "execution_count": 9,
   "metadata": {},
   "outputs": [
    {
     "output_type": "execute_result",
     "data": {
      "text/plain": "torch.Size([137, 236, 3])"
     },
     "metadata": {},
     "execution_count": 9
    }
   ],
   "source": [
    "img.shape"
   ]
  },
  {
   "cell_type": "code",
   "execution_count": 10,
   "metadata": {},
   "outputs": [
    {
     "output_type": "stream",
     "name": "stderr",
     "text": "Clipping input data to the valid range for imshow with RGB data ([0..1] for floats or [0..255] for integers).\n"
    },
    {
     "output_type": "execute_result",
     "data": {
      "text/plain": "<matplotlib.image.AxesImage at 0x7fc0d8e07f28>"
     },
     "metadata": {},
     "execution_count": 10
    },
    {
     "output_type": "display_data",
     "data": {
      "text/plain": "<Figure size 432x288 with 1 Axes>",
      "image/svg+xml": "<?xml version=\"1.0\" encoding=\"utf-8\" standalone=\"no\"?>\n<!DOCTYPE svg PUBLIC \"-//W3C//DTD SVG 1.1//EN\"\n  \"http://www.w3.org/Graphics/SVG/1.1/DTD/svg11.dtd\">\n<!-- Created with matplotlib (https://matplotlib.org/) -->\n<svg height=\"228.522259pt\" version=\"1.1\" viewBox=\"0 0 375.2875 228.522259\" width=\"375.2875pt\" xmlns=\"http://www.w3.org/2000/svg\" xmlns:xlink=\"http://www.w3.org/1999/xlink\">\n <defs>\n  <style type=\"text/css\">\n*{stroke-linecap:butt;stroke-linejoin:round;}\n  </style>\n </defs>\n <g id=\"figure_1\">\n  <g id=\"patch_1\">\n   <path d=\"M 0 228.522259 \nL 375.2875 228.522259 \nL 375.2875 0 \nL 0 0 \nz\n\" style=\"fill:none;\"/>\n  </g>\n  <g id=\"axes_1\">\n   <g id=\"patch_2\">\n    <path d=\"M 33.2875 204.644134 \nL 368.0875 204.644134 \nL 368.0875 10.289897 \nL 33.2875 10.289897 \nz\n\" style=\"fill:#ffffff;\"/>\n   </g>\n   <g clip-path=\"url(#p2ed15ee129)\">\n    <image height=\"195\" id=\"image414c8122d0\" transform=\"scale(1 -1)translate(0 -195)\" width=\"335\" x=\"33.2875\" xlink:href=\"data:image/png;base64,\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\" y=\"-9.644134\"/>\n   </g>\n   <g id=\"matplotlib.axis_1\">\n    <g id=\"xtick_1\">\n     <g id=\"line2d_1\">\n      <defs>\n       <path d=\"M 0 0 \nL 0 3.5 \n\" id=\"mcd1f62561d\" style=\"stroke:#000000;stroke-width:0.8;\"/>\n      </defs>\n      <g>\n       <use style=\"stroke:#000000;stroke-width:0.8;\" x=\"33.996822\" xlink:href=\"#mcd1f62561d\" y=\"204.644134\"/>\n      </g>\n     </g>\n     <g id=\"text_1\">\n      <!-- 0 -->\n      <defs>\n       <path d=\"M 31.78125 66.40625 \nQ 24.171875 66.40625 20.328125 58.90625 \nQ 16.5 51.421875 16.5 36.375 \nQ 16.5 21.390625 20.328125 13.890625 \nQ 24.171875 6.390625 31.78125 6.390625 \nQ 39.453125 6.390625 43.28125 13.890625 \nQ 47.125 21.390625 47.125 36.375 \nQ 47.125 51.421875 43.28125 58.90625 \nQ 39.453125 66.40625 31.78125 66.40625 \nz\nM 31.78125 74.21875 \nQ 44.046875 74.21875 50.515625 64.515625 \nQ 56.984375 54.828125 56.984375 36.375 \nQ 56.984375 17.96875 50.515625 8.265625 \nQ 44.046875 -1.421875 31.78125 -1.421875 \nQ 19.53125 -1.421875 13.0625 8.265625 \nQ 6.59375 17.96875 6.59375 36.375 \nQ 6.59375 54.828125 13.0625 64.515625 \nQ 19.53125 74.21875 31.78125 74.21875 \nz\n\" id=\"DejaVuSans-48\"/>\n      </defs>\n      <g transform=\"translate(30.815572 219.242572)scale(0.1 -0.1)\">\n       <use xlink:href=\"#DejaVuSans-48\"/>\n      </g>\n     </g>\n    </g>\n    <g id=\"xtick_2\">\n     <g id=\"line2d_2\">\n      <g>\n       <use style=\"stroke:#000000;stroke-width:0.8;\" x=\"104.929025\" xlink:href=\"#mcd1f62561d\" y=\"204.644134\"/>\n      </g>\n     </g>\n     <g id=\"text_2\">\n      <!-- 50 -->\n      <defs>\n       <path d=\"M 10.796875 72.90625 \nL 49.515625 72.90625 \nL 49.515625 64.59375 \nL 19.828125 64.59375 \nL 19.828125 46.734375 \nQ 21.96875 47.46875 24.109375 47.828125 \nQ 26.265625 48.1875 28.421875 48.1875 \nQ 40.625 48.1875 47.75 41.5 \nQ 54.890625 34.8125 54.890625 23.390625 \nQ 54.890625 11.625 47.5625 5.09375 \nQ 40.234375 -1.421875 26.90625 -1.421875 \nQ 22.3125 -1.421875 17.546875 -0.640625 \nQ 12.796875 0.140625 7.71875 1.703125 \nL 7.71875 11.625 \nQ 12.109375 9.234375 16.796875 8.0625 \nQ 21.484375 6.890625 26.703125 6.890625 \nQ 35.15625 6.890625 40.078125 11.328125 \nQ 45.015625 15.765625 45.015625 23.390625 \nQ 45.015625 31 40.078125 35.4375 \nQ 35.15625 39.890625 26.703125 39.890625 \nQ 22.75 39.890625 18.8125 39.015625 \nQ 14.890625 38.140625 10.796875 36.28125 \nz\n\" id=\"DejaVuSans-53\"/>\n      </defs>\n      <g transform=\"translate(98.566525 219.242572)scale(0.1 -0.1)\">\n       <use xlink:href=\"#DejaVuSans-53\"/>\n       <use x=\"63.623047\" xlink:href=\"#DejaVuSans-48\"/>\n      </g>\n     </g>\n    </g>\n    <g id=\"xtick_3\">\n     <g id=\"line2d_3\">\n      <g>\n       <use style=\"stroke:#000000;stroke-width:0.8;\" x=\"175.861229\" xlink:href=\"#mcd1f62561d\" y=\"204.644134\"/>\n      </g>\n     </g>\n     <g id=\"text_3\">\n      <!-- 100 -->\n      <defs>\n       <path d=\"M 12.40625 8.296875 \nL 28.515625 8.296875 \nL 28.515625 63.921875 \nL 10.984375 60.40625 \nL 10.984375 69.390625 \nL 28.421875 72.90625 \nL 38.28125 72.90625 \nL 38.28125 8.296875 \nL 54.390625 8.296875 \nL 54.390625 0 \nL 12.40625 0 \nz\n\" id=\"DejaVuSans-49\"/>\n      </defs>\n      <g transform=\"translate(166.317479 219.242572)scale(0.1 -0.1)\">\n       <use xlink:href=\"#DejaVuSans-49\"/>\n       <use x=\"63.623047\" xlink:href=\"#DejaVuSans-48\"/>\n       <use x=\"127.246094\" xlink:href=\"#DejaVuSans-48\"/>\n      </g>\n     </g>\n    </g>\n    <g id=\"xtick_4\">\n     <g id=\"line2d_4\">\n      <g>\n       <use style=\"stroke:#000000;stroke-width:0.8;\" x=\"246.793432\" xlink:href=\"#mcd1f62561d\" y=\"204.644134\"/>\n      </g>\n     </g>\n     <g id=\"text_4\">\n      <!-- 150 -->\n      <g transform=\"translate(237.249682 219.242572)scale(0.1 -0.1)\">\n       <use xlink:href=\"#DejaVuSans-49\"/>\n       <use x=\"63.623047\" xlink:href=\"#DejaVuSans-53\"/>\n       <use x=\"127.246094\" xlink:href=\"#DejaVuSans-48\"/>\n      </g>\n     </g>\n    </g>\n    <g id=\"xtick_5\">\n     <g id=\"line2d_5\">\n      <g>\n       <use style=\"stroke:#000000;stroke-width:0.8;\" x=\"317.725636\" xlink:href=\"#mcd1f62561d\" y=\"204.644134\"/>\n      </g>\n     </g>\n     <g id=\"text_5\">\n      <!-- 200 -->\n      <defs>\n       <path d=\"M 19.1875 8.296875 \nL 53.609375 8.296875 \nL 53.609375 0 \nL 7.328125 0 \nL 7.328125 8.296875 \nQ 12.9375 14.109375 22.625 23.890625 \nQ 32.328125 33.6875 34.8125 36.53125 \nQ 39.546875 41.84375 41.421875 45.53125 \nQ 43.3125 49.21875 43.3125 52.78125 \nQ 43.3125 58.59375 39.234375 62.25 \nQ 35.15625 65.921875 28.609375 65.921875 \nQ 23.96875 65.921875 18.8125 64.3125 \nQ 13.671875 62.703125 7.8125 59.421875 \nL 7.8125 69.390625 \nQ 13.765625 71.78125 18.9375 73 \nQ 24.125 74.21875 28.421875 74.21875 \nQ 39.75 74.21875 46.484375 68.546875 \nQ 53.21875 62.890625 53.21875 53.421875 \nQ 53.21875 48.921875 51.53125 44.890625 \nQ 49.859375 40.875 45.40625 35.40625 \nQ 44.1875 33.984375 37.640625 27.21875 \nQ 31.109375 20.453125 19.1875 8.296875 \nz\n\" id=\"DejaVuSans-50\"/>\n      </defs>\n      <g transform=\"translate(308.181886 219.242572)scale(0.1 -0.1)\">\n       <use xlink:href=\"#DejaVuSans-50\"/>\n       <use x=\"63.623047\" xlink:href=\"#DejaVuSans-48\"/>\n       <use x=\"127.246094\" xlink:href=\"#DejaVuSans-48\"/>\n      </g>\n     </g>\n    </g>\n   </g>\n   <g id=\"matplotlib.axis_2\">\n    <g id=\"ytick_1\">\n     <g id=\"line2d_6\">\n      <defs>\n       <path d=\"M 0 0 \nL -3.5 0 \n\" id=\"m02c60b6bd3\" style=\"stroke:#000000;stroke-width:0.8;\"/>\n      </defs>\n      <g>\n       <use style=\"stroke:#000000;stroke-width:0.8;\" x=\"33.2875\" xlink:href=\"#m02c60b6bd3\" y=\"10.999219\"/>\n      </g>\n     </g>\n     <g id=\"text_6\">\n      <!-- 0 -->\n      <g transform=\"translate(19.925 14.798437)scale(0.1 -0.1)\">\n       <use xlink:href=\"#DejaVuSans-48\"/>\n      </g>\n     </g>\n    </g>\n    <g id=\"ytick_2\">\n     <g id=\"line2d_7\">\n      <g>\n       <use style=\"stroke:#000000;stroke-width:0.8;\" x=\"33.2875\" xlink:href=\"#m02c60b6bd3\" y=\"39.3721\"/>\n      </g>\n     </g>\n     <g id=\"text_7\">\n      <!-- 20 -->\n      <g transform=\"translate(13.5625 43.171319)scale(0.1 -0.1)\">\n       <use xlink:href=\"#DejaVuSans-50\"/>\n       <use x=\"63.623047\" xlink:href=\"#DejaVuSans-48\"/>\n      </g>\n     </g>\n    </g>\n    <g id=\"ytick_3\">\n     <g id=\"line2d_8\">\n      <g>\n       <use style=\"stroke:#000000;stroke-width:0.8;\" x=\"33.2875\" xlink:href=\"#m02c60b6bd3\" y=\"67.744981\"/>\n      </g>\n     </g>\n     <g id=\"text_8\">\n      <!-- 40 -->\n      <defs>\n       <path d=\"M 37.796875 64.3125 \nL 12.890625 25.390625 \nL 37.796875 25.390625 \nz\nM 35.203125 72.90625 \nL 47.609375 72.90625 \nL 47.609375 25.390625 \nL 58.015625 25.390625 \nL 58.015625 17.1875 \nL 47.609375 17.1875 \nL 47.609375 0 \nL 37.796875 0 \nL 37.796875 17.1875 \nL 4.890625 17.1875 \nL 4.890625 26.703125 \nz\n\" id=\"DejaVuSans-52\"/>\n      </defs>\n      <g transform=\"translate(13.5625 71.5442)scale(0.1 -0.1)\">\n       <use xlink:href=\"#DejaVuSans-52\"/>\n       <use x=\"63.623047\" xlink:href=\"#DejaVuSans-48\"/>\n      </g>\n     </g>\n    </g>\n    <g id=\"ytick_4\">\n     <g id=\"line2d_9\">\n      <g>\n       <use style=\"stroke:#000000;stroke-width:0.8;\" x=\"33.2875\" xlink:href=\"#m02c60b6bd3\" y=\"96.117863\"/>\n      </g>\n     </g>\n     <g id=\"text_9\">\n      <!-- 60 -->\n      <defs>\n       <path d=\"M 33.015625 40.375 \nQ 26.375 40.375 22.484375 35.828125 \nQ 18.609375 31.296875 18.609375 23.390625 \nQ 18.609375 15.53125 22.484375 10.953125 \nQ 26.375 6.390625 33.015625 6.390625 \nQ 39.65625 6.390625 43.53125 10.953125 \nQ 47.40625 15.53125 47.40625 23.390625 \nQ 47.40625 31.296875 43.53125 35.828125 \nQ 39.65625 40.375 33.015625 40.375 \nz\nM 52.59375 71.296875 \nL 52.59375 62.3125 \nQ 48.875 64.0625 45.09375 64.984375 \nQ 41.3125 65.921875 37.59375 65.921875 \nQ 27.828125 65.921875 22.671875 59.328125 \nQ 17.53125 52.734375 16.796875 39.40625 \nQ 19.671875 43.65625 24.015625 45.921875 \nQ 28.375 48.1875 33.59375 48.1875 \nQ 44.578125 48.1875 50.953125 41.515625 \nQ 57.328125 34.859375 57.328125 23.390625 \nQ 57.328125 12.15625 50.6875 5.359375 \nQ 44.046875 -1.421875 33.015625 -1.421875 \nQ 20.359375 -1.421875 13.671875 8.265625 \nQ 6.984375 17.96875 6.984375 36.375 \nQ 6.984375 53.65625 15.1875 63.9375 \nQ 23.390625 74.21875 37.203125 74.21875 \nQ 40.921875 74.21875 44.703125 73.484375 \nQ 48.484375 72.75 52.59375 71.296875 \nz\n\" id=\"DejaVuSans-54\"/>\n      </defs>\n      <g transform=\"translate(13.5625 99.917082)scale(0.1 -0.1)\">\n       <use xlink:href=\"#DejaVuSans-54\"/>\n       <use x=\"63.623047\" xlink:href=\"#DejaVuSans-48\"/>\n      </g>\n     </g>\n    </g>\n    <g id=\"ytick_5\">\n     <g id=\"line2d_10\">\n      <g>\n       <use style=\"stroke:#000000;stroke-width:0.8;\" x=\"33.2875\" xlink:href=\"#m02c60b6bd3\" y=\"124.490744\"/>\n      </g>\n     </g>\n     <g id=\"text_10\">\n      <!-- 80 -->\n      <defs>\n       <path d=\"M 31.78125 34.625 \nQ 24.75 34.625 20.71875 30.859375 \nQ 16.703125 27.09375 16.703125 20.515625 \nQ 16.703125 13.921875 20.71875 10.15625 \nQ 24.75 6.390625 31.78125 6.390625 \nQ 38.8125 6.390625 42.859375 10.171875 \nQ 46.921875 13.96875 46.921875 20.515625 \nQ 46.921875 27.09375 42.890625 30.859375 \nQ 38.875 34.625 31.78125 34.625 \nz\nM 21.921875 38.8125 \nQ 15.578125 40.375 12.03125 44.71875 \nQ 8.5 49.078125 8.5 55.328125 \nQ 8.5 64.0625 14.71875 69.140625 \nQ 20.953125 74.21875 31.78125 74.21875 \nQ 42.671875 74.21875 48.875 69.140625 \nQ 55.078125 64.0625 55.078125 55.328125 \nQ 55.078125 49.078125 51.53125 44.71875 \nQ 48 40.375 41.703125 38.8125 \nQ 48.828125 37.15625 52.796875 32.3125 \nQ 56.78125 27.484375 56.78125 20.515625 \nQ 56.78125 9.90625 50.3125 4.234375 \nQ 43.84375 -1.421875 31.78125 -1.421875 \nQ 19.734375 -1.421875 13.25 4.234375 \nQ 6.78125 9.90625 6.78125 20.515625 \nQ 6.78125 27.484375 10.78125 32.3125 \nQ 14.796875 37.15625 21.921875 38.8125 \nz\nM 18.3125 54.390625 \nQ 18.3125 48.734375 21.84375 45.5625 \nQ 25.390625 42.390625 31.78125 42.390625 \nQ 38.140625 42.390625 41.71875 45.5625 \nQ 45.3125 48.734375 45.3125 54.390625 \nQ 45.3125 60.0625 41.71875 63.234375 \nQ 38.140625 66.40625 31.78125 66.40625 \nQ 25.390625 66.40625 21.84375 63.234375 \nQ 18.3125 60.0625 18.3125 54.390625 \nz\n\" id=\"DejaVuSans-56\"/>\n      </defs>\n      <g transform=\"translate(13.5625 128.289963)scale(0.1 -0.1)\">\n       <use xlink:href=\"#DejaVuSans-56\"/>\n       <use x=\"63.623047\" xlink:href=\"#DejaVuSans-48\"/>\n      </g>\n     </g>\n    </g>\n    <g id=\"ytick_6\">\n     <g id=\"line2d_11\">\n      <g>\n       <use style=\"stroke:#000000;stroke-width:0.8;\" x=\"33.2875\" xlink:href=\"#m02c60b6bd3\" y=\"152.863626\"/>\n      </g>\n     </g>\n     <g id=\"text_11\">\n      <!-- 100 -->\n      <g transform=\"translate(7.2 156.662844)scale(0.1 -0.1)\">\n       <use xlink:href=\"#DejaVuSans-49\"/>\n       <use x=\"63.623047\" xlink:href=\"#DejaVuSans-48\"/>\n       <use x=\"127.246094\" xlink:href=\"#DejaVuSans-48\"/>\n      </g>\n     </g>\n    </g>\n    <g id=\"ytick_7\">\n     <g id=\"line2d_12\">\n      <g>\n       <use style=\"stroke:#000000;stroke-width:0.8;\" x=\"33.2875\" xlink:href=\"#m02c60b6bd3\" y=\"181.236507\"/>\n      </g>\n     </g>\n     <g id=\"text_12\">\n      <!-- 120 -->\n      <g transform=\"translate(7.2 185.035726)scale(0.1 -0.1)\">\n       <use xlink:href=\"#DejaVuSans-49\"/>\n       <use x=\"63.623047\" xlink:href=\"#DejaVuSans-50\"/>\n       <use x=\"127.246094\" xlink:href=\"#DejaVuSans-48\"/>\n      </g>\n     </g>\n    </g>\n   </g>\n   <g id=\"patch_3\">\n    <path d=\"M 33.2875 204.644134 \nL 33.2875 10.289897 \n\" style=\"fill:none;stroke:#000000;stroke-linecap:square;stroke-linejoin:miter;stroke-width:0.8;\"/>\n   </g>\n   <g id=\"patch_4\">\n    <path d=\"M 368.0875 204.644134 \nL 368.0875 10.289897 \n\" style=\"fill:none;stroke:#000000;stroke-linecap:square;stroke-linejoin:miter;stroke-width:0.8;\"/>\n   </g>\n   <g id=\"patch_5\">\n    <path d=\"M 33.2875 204.644134 \nL 368.0875 204.644134 \n\" style=\"fill:none;stroke:#000000;stroke-linecap:square;stroke-linejoin:miter;stroke-width:0.8;\"/>\n   </g>\n   <g id=\"patch_6\">\n    <path d=\"M 33.2875 10.289897 \nL 368.0875 10.289897 \n\" style=\"fill:none;stroke:#000000;stroke-linecap:square;stroke-linejoin:miter;stroke-width:0.8;\"/>\n   </g>\n  </g>\n </g>\n <defs>\n  <clipPath id=\"p2ed15ee129\">\n   <rect height=\"194.354237\" width=\"334.8\" x=\"33.2875\" y=\"10.289897\"/>\n  </clipPath>\n </defs>\n</svg>\n",
      "image/png": "[encoded data removed]"
     },
     "metadata": {
      "needs_background": "light"
     }
    }
   ],
   "source": [
    "plt.imshow(img)"
   ]
  },
  {
   "cell_type": "code",
   "execution_count": 11,
   "metadata": {},
   "outputs": [
    {
     "output_type": "execute_result",
     "data": {
      "text/plain": "40168"
     },
     "metadata": {},
     "execution_count": 11
    }
   ],
   "source": [
    "len(ds)"
   ]
  },
  {
   "cell_type": "code",
   "execution_count": 12,
   "metadata": {},
   "outputs": [],
   "source": [
    "import torch"
   ]
  },
  {
   "cell_type": "code",
   "execution_count": 13,
   "metadata": {},
   "outputs": [],
   "source": [
    "training_loader = torch.utils.data.DataLoader(ds, 8, shuffle=True)"
   ]
  },
  {
   "cell_type": "code",
   "execution_count": 16,
   "metadata": {},
   "outputs": [
    {
     "output_type": "execute_result",
     "data": {
      "text/plain": "40168"
     },
     "metadata": {},
     "execution_count": 16
    }
   ],
   "source": [
    "len(training_loader)*8"
   ]
  },
  {
   "cell_type": "code",
   "execution_count": 17,
   "metadata": {},
   "outputs": [],
   "source": [
    "from tqdm import tqdm"
   ]
  },
  {
   "cell_type": "code",
   "execution_count": null,
   "metadata": {},
   "outputs": [],
   "source": [
    "for d in tqdm(training_loader, len = )"
   ]
  },
  {
   "cell_type": "code",
   "execution_count": 18,
   "metadata": {},
   "outputs": [],
   "source": [
    "import pandas as pd"
   ]
  },
  {
   "cell_type": "code",
   "execution_count": 19,
   "metadata": {},
   "outputs": [],
   "source": [
    "df = pd.read_csv('../input/train_folds.csv')"
   ]
  },
  {
   "cell_type": "code",
   "execution_count": 20,
   "metadata": {},
   "outputs": [
    {
     "output_type": "execute_result",
     "data": {
      "text/plain": "       image_id  grapheme_root  ...  grapheme  kfold\n0  Train_112897             32  ...       ঙ্ক      3\n1   Train_98815            115  ...        মৃ      4\n2   Train_86442             53  ...        টি      4\n3   Train_88783             89  ...      ন্দু      4\n4  Train_169449            165  ...        ড়া      4\n\n[5 rows x 6 columns]",
      "text/html": "<div>\n<style scoped>\n    .dataframe tbody tr th:only-of-type {\n        vertical-align: middle;\n    }\n\n    .dataframe tbody tr th {\n        vertical-align: top;\n    }\n\n    .dataframe thead th {\n        text-align: right;\n    }\n</style>\n<table border=\"1\" class=\"dataframe\">\n  <thead>\n    <tr style=\"text-align: right;\">\n      <th></th>\n      <th>image_id</th>\n      <th>grapheme_root</th>\n      <th>vowel_diacritic</th>\n      <th>consonant_diacritic</th>\n      <th>grapheme</th>\n      <th>kfold</th>\n    </tr>\n  </thead>\n  <tbody>\n    <tr>\n      <th>0</th>\n      <td>Train_112897</td>\n      <td>32</td>\n      <td>0</td>\n      <td>0</td>\n      <td>ঙ্ক</td>\n      <td>3</td>\n    </tr>\n    <tr>\n      <th>1</th>\n      <td>Train_98815</td>\n      <td>115</td>\n      <td>6</td>\n      <td>0</td>\n      <td>মৃ</td>\n      <td>4</td>\n    </tr>\n    <tr>\n      <th>2</th>\n      <td>Train_86442</td>\n      <td>53</td>\n      <td>2</td>\n      <td>0</td>\n      <td>টি</td>\n      <td>4</td>\n    </tr>\n    <tr>\n      <th>3</th>\n      <td>Train_88783</td>\n      <td>89</td>\n      <td>4</td>\n      <td>0</td>\n      <td>ন্দু</td>\n      <td>4</td>\n    </tr>\n    <tr>\n      <th>4</th>\n      <td>Train_169449</td>\n      <td>165</td>\n      <td>1</td>\n      <td>0</td>\n      <td>ড়া</td>\n      <td>4</td>\n    </tr>\n  </tbody>\n</table>\n</div>"
     },
     "metadata": {},
     "execution_count": 20
    }
   ],
   "source": [
    "df.head()\n"
   ]
  },
  {
   "cell_type": "code",
   "execution_count": 21,
   "metadata": {},
   "outputs": [
    {
     "output_type": "execute_result",
     "data": {
      "text/plain": "200840"
     },
     "metadata": {},
     "execution_count": 21
    }
   ],
   "source": [
    "df.shape[0]"
   ]
  },
  {
   "cell_type": "code",
   "execution_count": null,
   "metadata": {},
   "outputs": [],
   "source": []
  }
 ],
 "metadata": {
  "language_info": {
   "codemirror_mode": {
    "name": "ipython",
    "version": 3
   },
   "file_extension": ".py",
   "mimetype": "text/x-python",
   "name": "python",
   "nbconvert_exporter": "python",
   "pygments_lexer": "ipython3",
   "version": "3.6.9-final"
  },
  "orig_nbformat": 2,
  "kernelspec": {
   "name": "python3",
   "display_name": "Python 3"
  }
 },
 "nbformat": 4,
 "nbformat_minor": 2
}